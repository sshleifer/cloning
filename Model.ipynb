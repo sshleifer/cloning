{
 "cells": [
  {
   "cell_type": "code",
   "execution_count": 59,
   "metadata": {
    "collapsed": false
   },
   "outputs": [],
   "source": [
    "import tensorflow as tf\n",
    "from keras.layers import Dense, Flatten, Lambda, Activation, MaxPooling2D\n",
    "from keras.layers.convolutional import Convolution2D\n",
    "from keras.layers.normalization import BatchNormalization\n",
    "from keras.models import Sequential\n",
    "from keras.optimizers import Adam\n",
    "import errno\n",
    "import json\n",
    "import os\n",
    "\n",
    "import cv2\n",
    "import matplotlib.pyplot as plt\n",
    "import numpy as np\n",
    "import pandas as pd\n",
    "import scipy.misc\n",
    "from scipy.ndimage import rotate\n",
    "from scipy.stats import bernoulli\n",
    "import helper\n",
    "\n",
    "tf.python.control_flow_ops = tf\n",
    "\n",
    "number_of_epochs = 1\n",
    "%load_ext autoreload\n",
    "%autoreload 2\n",
    "learning_rate = 1e-4\n",
    "activation_relu = 'relu'"
   ]
  },
  {
   "cell_type": "code",
   "execution_count": 9,
   "metadata": {
    "collapsed": true
   },
   "outputs": [],
   "source": [
    "import pandas as pd\n",
    "%load_ext autoreload\n",
    "%autoreload 2"
   ]
  },
  {
   "cell_type": "code",
   "execution_count": 171,
   "metadata": {
    "collapsed": false
   },
   "outputs": [],
   "source": []
  },
  {
   "cell_type": "code",
   "execution_count": 176,
   "metadata": {
    "collapsed": false
   },
   "outputs": [],
   "source": [
    "k = helper.generate_next_batch()"
   ]
  },
  {
   "cell_type": "code",
   "execution_count": 178,
   "metadata": {
    "collapsed": false
   },
   "outputs": [],
   "source": [
    "#next(k)"
   ]
  },
  {
   "cell_type": "code",
   "execution_count": 55,
   "metadata": {
    "collapsed": true
   },
   "outputs": [],
   "source": [
    "from helper import get_next_image_files, generate_new_image"
   ]
  },
  {
   "cell_type": "code",
   "execution_count": 57,
   "metadata": {
    "collapsed": false
   },
   "outputs": [],
   "source": [
    "import matplotlib.pyplot as plt\n",
    "\n",
    "#next(k)\n",
    "\n",
    "d1.iloc[0]\n",
    "\n",
    "d1 = pd.read_csv('data/driving_log.csv')\n",
    "\n",
    "d2 = pd.read_csv('t2_train/driving_log.csv', header=None)\n",
    "d2.columns = d1.columns\n",
    "d2.to_csv('t2_train/driving_log.csv', index=False)\n",
    "d1.iloc[0]\n",
    "8037 * 3"
   ]
  },
  {
   "cell_type": "code",
   "execution_count": null,
   "metadata": {
    "collapsed": true
   },
   "outputs": [],
   "source": [
    "d2 = pd.read_csv('t2_train/driving_log.csv')\n",
    "\n",
    "d2_valid= d2.sample(frac=.20, replace=False)\n",
    "\n",
    "d2_tr = d2.drop(d2_valid.index)"
   ]
  },
  {
   "cell_type": "code",
   "execution_count": 71,
   "metadata": {
    "collapsed": true
   },
   "outputs": [],
   "source": [
    "number_of_samples_per_epoch = 20032\n",
    "number_of_validation_samples = d2.shape[0] * 3"
   ]
  },
  {
   "cell_type": "code",
   "execution_count": 69,
   "metadata": {
    "collapsed": false
   },
   "outputs": [
    {
     "data": {
      "text/plain": [
       "6285"
      ]
     },
     "execution_count": 69,
     "metadata": {},
     "output_type": "execute_result"
    }
   ],
   "source": [
    "model.fi"
   ]
  },
  {
   "cell_type": "code",
   "execution_count": 162,
   "metadata": {
    "collapsed": false
   },
   "outputs": [],
   "source": [
    "def add_conv_block(model, nb_filter, nb_row, nb_col, subsample=(2,2)):\n",
    "    model.add(Convolution2D(nb_filter, nb_row, nb_col,\n",
    "                            activation='relu', border_mode='same', subsample=subsample))\n",
    "    model.add(MaxPooling2D(pool_size=(2,2), strides=(1,1)))\n",
    "    \n",
    "    \n",
    "def add_dense_block(n_hidden):\n",
    "    model.add(Dense(n_hidden, activation='relu'))\n",
    "    \n",
    "    import pandas as pd\n",
    "%matplotlib inline\n",
    "def plot_history(history):\n",
    "    pd.DataFrame(history.history).plot(style='-o')"
   ]
  },
  {
   "cell_type": "code",
   "execution_count": 130,
   "metadata": {
    "collapsed": false,
    "scrolled": false
   },
   "outputs": [],
   "source": [
    "# Source:  https://images.nvidia.com/content/tegra/automotive/images/2016/solutions/pdf/end-to-end-dl-using-px.pdf\n",
    "model = Sequential()\n",
    "\n",
    "model.add(Lambda(lambda x: x / 127.5 - 1.0, input_shape=(64, 64, 3)))\n",
    "add_conv_block(model, 24, 5, 5)\n",
    "add_conv_block(model, 36, 5, 5)\n",
    "add_conv_block(model,48, 5, 5)\n",
    "add_conv_block(model, 64, 3, 3, subsample=(1,1))\n",
    "add_conv_block(model, 64, 3, 3, subsample=(1,1))\n",
    "\n",
    "model.add(Flatten())\n",
    "add_dense_block(1164)\n",
    "model.add(BatchNormalization())\n",
    "add_dense_block(100)\n",
    "add_dense_block(50)\n",
    "add_dense_block(10)\n",
    "\n",
    "model.add(Dense(1))\n"
   ]
  },
  {
   "cell_type": "code",
   "execution_count": 117,
   "metadata": {
    "collapsed": false
   },
   "outputs": [],
   "source": [
    "#model.summary()"
   ]
  },
  {
   "cell_type": "code",
   "execution_count": 2,
   "metadata": {
    "collapsed": false
   },
   "outputs": [
    {
     "name": "stderr",
     "output_type": "stream",
     "text": [
      "Using TensorFlow backend.\n"
     ]
    }
   ],
   "source": [
    "from keras.models import load_model"
   ]
  },
  {
   "cell_type": "code",
   "execution_count": 4,
   "metadata": {
    "collapsed": true
   },
   "outputs": [],
   "source": [
    "model.fit_generator?"
   ]
  },
  {
   "cell_type": "code",
   "execution_count": 3,
   "metadata": {
    "collapsed": false
   },
   "outputs": [],
   "source": [
    "model = load_model('m10_bn.h5')"
   ]
  },
  {
   "cell_type": "code",
   "execution_count": 79,
   "metadata": {
    "collapsed": true
   },
   "outputs": [],
   "source": [
    "from keras.callbacks import ModelCheckpoint"
   ]
  },
  {
   "cell_type": "code",
   "execution_count": 184,
   "metadata": {
    "collapsed": false
   },
   "outputs": [],
   "source": [
    "filepath=\"t2-weights-improvement-{epoch:02d}-{val_loss:.2f}.hdf5\"\n",
    "checkpoint = ModelCheckpoint(filepath, monitor='val_loss', verbose=1, save_best_only=True, mode='min')\n",
    "callbacks_list = [checkpoint]"
   ]
  },
  {
   "cell_type": "code",
   "execution_count": 180,
   "metadata": {
    "collapsed": false
   },
   "outputs": [
    {
     "name": "stdout",
     "output_type": "stream",
     "text": [
      "Epoch 1/3\n",
      " 64/100 [==================>...........] - ETA: 0s - loss: 0.0092"
     ]
    },
    {
     "name": "stderr",
     "output_type": "stream",
     "text": [
      "/home/carnd/anaconda3/envs/carnd-term1/lib/python3.5/site-packages/keras/engine/training.py:1569: UserWarning: Epoch comprised more than `samples_per_epoch` samples, which might affect learning results. Set `samples_per_epoch` correctly to avoid this warning.\n",
      "  warnings.warn('Epoch comprised more than '\n"
     ]
    },
    {
     "name": "stdout",
     "output_type": "stream",
     "text": [
      "128/100 [======================================] - 7s - loss: 0.0145 - val_loss: 0.1984\n",
      "Epoch 2/3\n",
      "128/100 [======================================] - 5s - loss: 0.0148 - val_loss: 0.2077\n",
      "Epoch 3/3\n",
      "128/100 [======================================] - 6s - loss: 0.0124 - val_loss: 0.2091\n",
      "CPU times: user 22.4 s, sys: 276 ms, total: 22.7 s\n",
      "Wall time: 19.2 s\n"
     ]
    }
   ],
   "source": [
    "%%time\n",
    "\n",
    "#model.compile(optimizer=Adam(learning_rate), loss=\"mse\")\n",
    "\n",
    "\n",
    "# create two generators for training and validation\n",
    "train_gen = helper.generate_next_batch()\n",
    "validation_gen = helper.generate_next_batch(path='t2_train', data=d2_valid)\n",
    "\n",
    "history = model.fit_generator(train_gen,\n",
    "                              samples_per_epoch=100,\n",
    "                              nb_epoch=3,\n",
    "                              validation_data=validation_gen,\n",
    "                              callbacks=callbacks_list,\n",
    "                              nb_val_samples=d2_valid.shape[0] * 3,\n",
    "                              verbose=1)\n"
   ]
  },
  {
   "cell_type": "code",
   "execution_count": 185,
   "metadata": {
    "collapsed": true
   },
   "outputs": [],
   "source": [
    "train_gen = helper.generate_next_batch(path='t2_train', data=d2_tr)\n",
    "validation_gen = helper.generate_next_batch(path='t2_train', data=d2_valid)\n"
   ]
  },
  {
   "cell_type": "code",
   "execution_count": 186,
   "metadata": {
    "collapsed": false
   },
   "outputs": [
    {
     "name": "stdout",
     "output_type": "stream",
     "text": [
      "Epoch 1/10\n",
      "1664/1676 [============================>.] - ETA: 0s - loss: 0.1108"
     ]
    },
    {
     "name": "stderr",
     "output_type": "stream",
     "text": [
      "/home/carnd/anaconda3/envs/carnd-term1/lib/python3.5/site-packages/keras/engine/training.py:1569: UserWarning: Epoch comprised more than `samples_per_epoch` samples, which might affect learning results. Set `samples_per_epoch` correctly to avoid this warning.\n",
      "  warnings.warn('Epoch comprised more than '\n"
     ]
    },
    {
     "name": "stdout",
     "output_type": "stream",
     "text": [
      "Epoch 00000: val_loss improved from inf to 0.12227, saving model to t2-weights-improvement-00-0.12.hdf5\n",
      "1728/1676 [==============================] - 13s - loss: 0.1121 - val_loss: 0.1223\n",
      "Epoch 2/10\n",
      "1664/1676 [============================>.] - ETA: 0s - loss: 0.0993Epoch 00001: val_loss did not improve\n",
      "1728/1676 [==============================] - 11s - loss: 0.1003 - val_loss: 0.1272\n",
      "Epoch 3/10\n",
      "1664/1676 [============================>.] - ETA: 0s - loss: 0.1131Epoch 00002: val_loss improved from 0.12227 to 0.10755, saving model to t2-weights-improvement-02-0.11.hdf5\n",
      "1728/1676 [==============================] - 11s - loss: 0.1135 - val_loss: 0.1076\n",
      "Epoch 4/10\n",
      "1664/1676 [============================>.] - ETA: 0s - loss: 0.1195Epoch 00003: val_loss did not improve\n",
      "1728/1676 [==============================] - 11s - loss: 0.1189 - val_loss: 0.1255\n",
      "Epoch 5/10\n",
      "1664/1676 [============================>.] - ETA: 0s - loss: 0.1091Epoch 00004: val_loss did not improve\n",
      "1728/1676 [==============================] - 11s - loss: 0.1091 - val_loss: 0.1120\n",
      "Epoch 6/10\n",
      "1664/1676 [============================>.] - ETA: 0s - loss: 0.1026Epoch 00005: val_loss did not improve\n",
      "1728/1676 [==============================] - 11s - loss: 0.1027 - val_loss: 0.1093\n",
      "Epoch 7/10\n",
      "1664/1676 [============================>.] - ETA: 0s - loss: 0.1136Epoch 00006: val_loss did not improve\n",
      "1728/1676 [==============================] - 11s - loss: 0.1141 - val_loss: 0.1125\n",
      "Epoch 8/10\n",
      "1664/1676 [============================>.] - ETA: 0s - loss: 0.1093Epoch 00007: val_loss did not improve\n",
      "1728/1676 [==============================] - 11s - loss: 0.1087 - val_loss: 0.1148\n",
      "Epoch 9/10\n",
      "1664/1676 [============================>.] - ETA: 0s - loss: 0.1136Epoch 00008: val_loss did not improve\n",
      "1728/1676 [==============================] - 11s - loss: 0.1134 - val_loss: 0.1109\n",
      "Epoch 10/10\n",
      "1664/1676 [============================>.] - ETA: 0s - loss: 0.1125Epoch 00009: val_loss did not improve\n",
      "1728/1676 [==============================] - 11s - loss: 0.1118 - val_loss: 0.1523\n"
     ]
    }
   ],
   "source": [
    "history = model.fit_generator(train_gen,\n",
    "                              samples_per_epoch=len(d2_tr),\n",
    "                              nb_epoch=10,\n",
    "                              callbacks=callbacks_list,\n",
    "                              validation_data=validation_gen,\n",
    "                              nb_val_samples=d2_valid.shape[0] * 3,\n",
    "                              verbose=1)"
   ]
  },
  {
   "cell_type": "code",
   "execution_count": 188,
   "metadata": {
    "collapsed": false
   },
   "outputs": [
    {
     "name": "stdout",
     "output_type": "stream",
     "text": [
      "\u001b[0m\u001b[01;35mbean_bag.mp4\u001b[0m  m20_bn_t1_only.h5  t2-weights-improvement-00-0.12.hdf5\r\n",
      "\u001b[01;34mdata\u001b[0m/         Model-Final.ipynb  t2-weights-improvement-00-0.13.hdf5\r\n",
      "\u001b[01;34mDataset\u001b[0m/      Model.ipynb        t2-weights-improvement-00-0.17.hdf5\r\n",
      "\u001b[01;31mDataset.zip\u001b[0m   \u001b[01;34m__pycache__\u001b[0m/       t2-weights-improvement-02-0.11.hdf5\r\n",
      "drive.py      README.md          video.py\r\n",
      "\u001b[01;34mexamples\u001b[0m/     t2-10.hdf5         writeup_template.md\r\n",
      "helper.py     \u001b[01;34mt2_train\u001b[0m/\r\n",
      "m10_bn.h5     \u001b[01;31mt2_train.zip\u001b[0m\r\n"
     ]
    }
   ],
   "source": [
    "ls"
   ]
  },
  {
   "cell_type": "code",
   "execution_count": 75,
   "metadata": {
    "collapsed": true
   },
   "outputs": [],
   "source": [
    "model.save('m20_bn_t1_only.h5')"
   ]
  },
  {
   "cell_type": "code",
   "execution_count": 110,
   "metadata": {
    "collapsed": false
   },
   "outputs": [],
   "source": []
  },
  {
   "cell_type": "code",
   "execution_count": 94,
   "metadata": {
    "collapsed": false
   },
   "outputs": [],
   "source": []
  },
  {
   "cell_type": "code",
   "execution_count": 108,
   "metadata": {
    "collapsed": true
   },
   "outputs": [],
   "source": [
    "#ls t2"
   ]
  },
  {
   "cell_type": "code",
   "execution_count": 183,
   "metadata": {
    "collapsed": false
   },
   "outputs": [
    {
     "name": "stdout",
     "output_type": "stream",
     "text": [
      "Epoch 1/10\n",
      "6272/6285 [============================>.] - ETA: 0s - loss: 0.1366"
     ]
    },
    {
     "name": "stderr",
     "output_type": "stream",
     "text": [
      "/home/carnd/anaconda3/envs/carnd-term1/lib/python3.5/site-packages/keras/engine/training.py:1569: UserWarning: Epoch comprised more than `samples_per_epoch` samples, which might affect learning results. Set `samples_per_epoch` correctly to avoid this warning.\n",
      "  warnings.warn('Epoch comprised more than '\n"
     ]
    },
    {
     "name": "stdout",
     "output_type": "stream",
     "text": [
      "Epoch 00000: val_loss improved from -inf to 0.16854, saving model to t2-weights-improvement-00-0.17.hdf5\n",
      "6336/6285 [==============================] - 54s - loss: 0.1375 - val_loss: 0.1685\n",
      "Epoch 2/10\n",
      "6272/6285 [============================>.] - ETA: 0s - loss: 0.1292Epoch 00001: val_loss did not improve\n",
      "6336/6285 [==============================] - 51s - loss: 0.1293 - val_loss: 0.1503\n",
      "Epoch 3/10\n",
      "6272/6285 [============================>.] - ETA: 0s - loss: 0.1248Epoch 00002: val_loss did not improve\n",
      "6336/6285 [==============================] - 51s - loss: 0.1246 - val_loss: 0.1253\n",
      "Epoch 4/10\n",
      "6272/6285 [============================>.] - ETA: 0s - loss: 0.1177Epoch 00003: val_loss did not improve\n",
      "6336/6285 [==============================] - 51s - loss: 0.1182 - val_loss: 0.1355\n",
      "Epoch 5/10\n",
      "6272/6285 [============================>.] - ETA: 0s - loss: 0.1130"
     ]
    },
    {
     "ename": "KeyboardInterrupt",
     "evalue": "",
     "output_type": "error",
     "traceback": [
      "\u001b[0;31m---------------------------------------------------------------------------\u001b[0m",
      "\u001b[0;31mKeyboardInterrupt\u001b[0m                         Traceback (most recent call last)",
      "\u001b[0;32m<ipython-input-183-7be248e221d7>\u001b[0m in \u001b[0;36m<module>\u001b[0;34m()\u001b[0m\n\u001b[1;32m      7\u001b[0m                             \u001b[0mcallbacks\u001b[0m\u001b[0;34m=\u001b[0m\u001b[0mcallbacks_list\u001b[0m\u001b[0;34m,\u001b[0m\u001b[0;34m\u001b[0m\u001b[0m\n\u001b[1;32m      8\u001b[0m                               \u001b[0mnb_val_samples\u001b[0m\u001b[0;34m=\u001b[0m\u001b[0mnumber_of_validation_samples\u001b[0m\u001b[0;34m,\u001b[0m\u001b[0;34m\u001b[0m\u001b[0m\n\u001b[0;32m----> 9\u001b[0;31m                               verbose=1)\n\u001b[0m",
      "\u001b[0;32m/home/carnd/anaconda3/envs/carnd-term1/lib/python3.5/site-packages/keras/models.py\u001b[0m in \u001b[0;36mfit_generator\u001b[0;34m(self, generator, samples_per_epoch, nb_epoch, verbose, callbacks, validation_data, nb_val_samples, class_weight, max_q_size, nb_worker, pickle_safe, initial_epoch, **kwargs)\u001b[0m\n\u001b[1;32m    933\u001b[0m                                         \u001b[0mnb_worker\u001b[0m\u001b[0;34m=\u001b[0m\u001b[0mnb_worker\u001b[0m\u001b[0;34m,\u001b[0m\u001b[0;34m\u001b[0m\u001b[0m\n\u001b[1;32m    934\u001b[0m                                         \u001b[0mpickle_safe\u001b[0m\u001b[0;34m=\u001b[0m\u001b[0mpickle_safe\u001b[0m\u001b[0;34m,\u001b[0m\u001b[0;34m\u001b[0m\u001b[0m\n\u001b[0;32m--> 935\u001b[0;31m                                         initial_epoch=initial_epoch)\n\u001b[0m\u001b[1;32m    936\u001b[0m \u001b[0;34m\u001b[0m\u001b[0m\n\u001b[1;32m    937\u001b[0m     def evaluate_generator(self, generator, val_samples,\n",
      "\u001b[0;32m/home/carnd/anaconda3/envs/carnd-term1/lib/python3.5/site-packages/keras/engine/training.py\u001b[0m in \u001b[0;36mfit_generator\u001b[0;34m(self, generator, samples_per_epoch, nb_epoch, verbose, callbacks, validation_data, nb_val_samples, class_weight, max_q_size, nb_worker, pickle_safe, initial_epoch)\u001b[0m\n\u001b[1;32m   1579\u001b[0m                                 \u001b[0mmax_q_size\u001b[0m\u001b[0;34m=\u001b[0m\u001b[0mmax_q_size\u001b[0m\u001b[0;34m,\u001b[0m\u001b[0;34m\u001b[0m\u001b[0m\n\u001b[1;32m   1580\u001b[0m                                 \u001b[0mnb_worker\u001b[0m\u001b[0;34m=\u001b[0m\u001b[0mnb_worker\u001b[0m\u001b[0;34m,\u001b[0m\u001b[0;34m\u001b[0m\u001b[0m\n\u001b[0;32m-> 1581\u001b[0;31m                                 pickle_safe=pickle_safe)\n\u001b[0m\u001b[1;32m   1582\u001b[0m                         \u001b[0;32melse\u001b[0m\u001b[0;34m:\u001b[0m\u001b[0;34m\u001b[0m\u001b[0m\n\u001b[1;32m   1583\u001b[0m                             \u001b[0;31m# no need for try/except because\u001b[0m\u001b[0;34m\u001b[0m\u001b[0;34m\u001b[0m\u001b[0m\n",
      "\u001b[0;32m/home/carnd/anaconda3/envs/carnd-term1/lib/python3.5/site-packages/keras/engine/training.py\u001b[0m in \u001b[0;36mevaluate_generator\u001b[0;34m(self, generator, val_samples, max_q_size, nb_worker, pickle_safe)\u001b[0m\n\u001b[1;32m   1655\u001b[0m                         \u001b[0;32mbreak\u001b[0m\u001b[0;34m\u001b[0m\u001b[0m\n\u001b[1;32m   1656\u001b[0m                     \u001b[0;32melse\u001b[0m\u001b[0;34m:\u001b[0m\u001b[0;34m\u001b[0m\u001b[0m\n\u001b[0;32m-> 1657\u001b[0;31m                         \u001b[0mtime\u001b[0m\u001b[0;34m.\u001b[0m\u001b[0msleep\u001b[0m\u001b[0;34m(\u001b[0m\u001b[0mwait_time\u001b[0m\u001b[0;34m)\u001b[0m\u001b[0;34m\u001b[0m\u001b[0m\n\u001b[0m\u001b[1;32m   1658\u001b[0m \u001b[0;34m\u001b[0m\u001b[0m\n\u001b[1;32m   1659\u001b[0m                 \u001b[0;32mif\u001b[0m \u001b[0;32mnot\u001b[0m \u001b[0mhasattr\u001b[0m\u001b[0;34m(\u001b[0m\u001b[0mgenerator_output\u001b[0m\u001b[0;34m,\u001b[0m \u001b[0;34m'__len__'\u001b[0m\u001b[0;34m)\u001b[0m\u001b[0;34m:\u001b[0m\u001b[0;34m\u001b[0m\u001b[0m\n",
      "\u001b[0;31mKeyboardInterrupt\u001b[0m: "
     ]
    }
   ],
   "source": [
    "\n",
    "history2 = model.fit_generator(train_gen,\n",
    "                              samples_per_epoch=number_of_validation_samples,\n",
    "                              nb_epoch=10,\n",
    "                              validation_data=validation_gen,\n",
    "                        \n",
    "                              callbacks=callbacks_list,\n",
    "                              nb_val_samples=number_of_validation_samples,\n",
    "                              verbose=1)"
   ]
  },
  {
   "cell_type": "code",
   "execution_count": null,
   "metadata": {
    "collapsed": true
   },
   "outputs": [],
   "source": [
    "plot_history(history2)"
   ]
  },
  {
   "cell_type": "code",
   "execution_count": 107,
   "metadata": {
    "collapsed": true
   },
   "outputs": [],
   "source": [
    "model.save('t2-20_val_.hdf5')"
   ]
  },
  {
   "cell_type": "code",
   "execution_count": 99,
   "metadata": {
    "collapsed": true
   },
   "outputs": [],
   "source": []
  },
  {
   "cell_type": "code",
   "execution_count": 101,
   "metadata": {
    "collapsed": false
   },
   "outputs": [],
   "source": [
    "#m2.summary()"
   ]
  },
  {
   "cell_type": "code",
   "execution_count": 97,
   "metadata": {
    "collapsed": false
   },
   "outputs": [],
   "source": [
    "from keras.models import load_model"
   ]
  },
  {
   "cell_type": "code",
   "execution_count": 106,
   "metadata": {
    "collapsed": false
   },
   "outputs": [
    {
     "name": "stdout",
     "output_type": "stream",
     "text": [
      "Sun Aug 27 00:09:48 UTC 2017\r\n"
     ]
    }
   ],
   "source": [
    "!date"
   ]
  },
  {
   "cell_type": "code",
   "execution_count": 105,
   "metadata": {
    "collapsed": false
   },
   "outputs": [
    {
     "name": "stdout",
     "output_type": "stream",
     "text": [
      "total 464984\r\n",
      "-rw-rw-r-- 1 carnd carnd     35578 Aug 27 00:09 Model.ipynb\r\n",
      "-rw-rw-r-- 1 carnd carnd  25500232 Aug 26 23:58 t2-weights-improvement-00-0.13.hdf5\r\n",
      "-rw-rw-r-- 1 carnd carnd  25500232 Aug 26 23:51 m20_bn_t1_only.h5\r\n",
      "-rw-rw-r-- 1 carnd carnd      4073 Aug 26 23:34 drive.py\r\n",
      "drwxrwxr-x 2 carnd carnd      4096 Aug 26 23:28 \u001b[0m\u001b[01;34m__pycache__\u001b[0m/\r\n",
      "-rw-rw-r-- 1 carnd carnd      6607 Aug 26 23:28 helper.py\r\n",
      "-rw-r--r-- 1 carnd carnd  62880558 Aug 26 23:16 \u001b[01;31mt2_train.zip\u001b[0m\r\n",
      "drwxr-xr-x 3 carnd carnd      4096 Aug 26 23:12 \u001b[01;34mt2_train\u001b[0m/\r\n",
      "-rw-r--r-- 1 carnd carnd 336660046 Aug 26 22:01 \u001b[01;31mDataset.zip\u001b[0m\r\n",
      "-rw-rw-r-- 1 carnd carnd       133 Aug 26 21:35 \u001b[01;35mbean_bag.mp4\u001b[0m\r\n",
      "drwxrwxr-x 2 carnd carnd      4096 Aug 26 21:35 \u001b[01;34mexamples\u001b[0m/\r\n",
      "-rw-rw-r-- 1 carnd carnd      6132 Aug 26 21:35 README.md\r\n",
      "-rw-rw-r-- 1 carnd carnd       750 Aug 26 21:35 video.py\r\n",
      "-rw-rw-r-- 1 carnd carnd      5880 Aug 26 21:35 writeup_template.md\r\n",
      "-rw-rw-r-- 1 carnd carnd  25500272 Aug 25 23:35 m10_bn.h5\r\n",
      "drwxrwxr-x 3 carnd carnd      4096 Aug 25 21:12 \u001b[01;34mdata\u001b[0m/\r\n",
      "drwxrwxr-x 4 carnd carnd      4096 Jan  8  2017 \u001b[01;34mDataset\u001b[0m/\r\n"
     ]
    }
   ],
   "source": [
    "ls -lt"
   ]
  },
  {
   "cell_type": "code",
   "execution_count": null,
   "metadata": {
    "collapsed": true
   },
   "outputs": [],
   "source": []
  },
  {
   "cell_type": "code",
   "execution_count": null,
   "metadata": {
    "collapsed": true
   },
   "outputs": [],
   "source": [
    "# create two generators for training and validation\n",
    "train_gen = helper.generate_next_batch()\n",
    "validation_gen = generate_next_batch(path='t2_train')\n"
   ]
  },
  {
   "cell_type": "code",
   "execution_count": 63,
   "metadata": {
    "collapsed": true
   },
   "outputs": [],
   "source": [
    "model = model.load"
   ]
  },
  {
   "cell_type": "code",
   "execution_count": 110,
   "metadata": {
    "collapsed": false
   },
   "outputs": [
    {
     "name": "stdout",
     "output_type": "stream",
     "text": [
      "Epoch 1/10\n",
      "20032/20032 [==============================] - 124s - loss: 0.0152 - val_loss: 0.0132\n",
      "Epoch 2/10\n",
      "20032/20032 [==============================] - 122s - loss: 0.0142 - val_loss: 0.0150\n",
      "Epoch 3/10\n",
      "20032/20032 [==============================] - 122s - loss: 0.0138 - val_loss: 0.0130\n",
      "Epoch 4/10\n",
      "20032/20032 [==============================] - 122s - loss: 0.0132 - val_loss: 0.0142\n",
      "Epoch 5/10\n",
      "20032/20032 [==============================] - 122s - loss: 0.0131 - val_loss: 0.0136\n",
      "Epoch 6/10\n",
      "20032/20032 [==============================] - 123s - loss: 0.0128 - val_loss: 0.0117\n",
      "Epoch 7/10\n",
      "20032/20032 [==============================] - 123s - loss: 0.0120 - val_loss: 0.0114\n",
      "Epoch 8/10\n",
      "20032/20032 [==============================] - 122s - loss: 0.0122 - val_loss: 0.0122\n",
      "Epoch 9/10\n",
      "20032/20032 [==============================] - 121s - loss: 0.0120 - val_loss: 0.0117\n",
      "Epoch 10/10\n",
      "20032/20032 [==============================] - 122s - loss: 0.0115 - val_loss: 0.0107\n"
     ]
    }
   ],
   "source": [
    "history2 = model.fit_generator(train_gen,\n",
    "                              samples_per_epoch=number_of_samples_per_epoch,\n",
    "                              nb_epoch=10,\n",
    "                              validation_data=validation_gen,\n",
    "                              nb_val_samples=number_of_validation_samples,\n",
    "                              verbose=1)"
   ]
  },
  {
   "cell_type": "code",
   "execution_count": null,
   "metadata": {
    "collapsed": true
   },
   "outputs": [],
   "source": []
  },
  {
   "cell_type": "code",
   "execution_count": 108,
   "metadata": {
    "collapsed": false
   },
   "outputs": [
    {
     "data": {
      "text/plain": [
       "<matplotlib.axes._subplots.AxesSubplot at 0x7f62cc4666d8>"
      ]
     },
     "execution_count": 108,
     "metadata": {},
     "output_type": "execute_result"
    },
    {
     "data": {
      "image/png": "[encoded data removed]",
      "text/plain": [
       "<matplotlib.figure.Figure at 0x7f62cd3d4a90>"
      ]
     },
     "metadata": {},
     "output_type": "display_data"
    }
   ],
   "source": []
  },
  {
   "cell_type": "code",
   "execution_count": 102,
   "metadata": {
    "collapsed": true
   },
   "outputs": [],
   "source": [
    "import keras"
   ]
  },
  {
   "cell_type": "code",
   "execution_count": null,
   "metadata": {
    "collapsed": true
   },
   "outputs": [],
   "source": [
    "keras.loa"
   ]
  }
 ],
 "metadata": {
  "anaconda-cloud": {},
  "kernelspec": {
   "display_name": "Python [conda env:carnd-term1]",
   "language": "python",
   "name": "conda-env-carnd-term1-py"
  },
  "language_info": {
   "codemirror_mode": {
    "name": "ipython",
    "version": 3
   },
   "file_extension": ".py",
   "mimetype": "text/x-python",
   "name": "python",
   "nbconvert_exporter": "python",
   "pygments_lexer": "ipython3",
   "version": "3.5.2"
  }
 },
 "nbformat": 4,
 "nbformat_minor": 1
}
